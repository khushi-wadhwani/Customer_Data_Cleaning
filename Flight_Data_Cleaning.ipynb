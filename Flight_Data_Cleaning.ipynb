{
  "nbformat": 4,
  "nbformat_minor": 0,
  "metadata": {
    "colab": {
      "provenance": [],
      "toc_visible": true
    },
    "kernelspec": {
      "name": "python3",
      "display_name": "Python 3"
    },
    "language_info": {
      "name": "python"
    }
  },
  "cells": [
    {
      "cell_type": "code",
      "execution_count": 107,
      "metadata": {
        "colab": {
          "base_uri": "https://localhost:8080/",
          "height": 74
        },
        "id": "QXHdjC6VrfLn",
        "outputId": "5f614156-2f6c-4d31-da3a-bb422892deda"
      },
      "outputs": [
        {
          "output_type": "display_data",
          "data": {
            "text/plain": [
              "<IPython.core.display.HTML object>"
            ],
            "text/html": [
              "\n",
              "     <input type=\"file\" id=\"files-6e4dea0d-7948-46ad-afd4-d139bca5c713\" name=\"files[]\" multiple disabled\n",
              "        style=\"border:none\" />\n",
              "     <output id=\"result-6e4dea0d-7948-46ad-afd4-d139bca5c713\">\n",
              "      Upload widget is only available when the cell has been executed in the\n",
              "      current browser session. Please rerun this cell to enable.\n",
              "      </output>\n",
              "      <script>// Copyright 2017 Google LLC\n",
              "//\n",
              "// Licensed under the Apache License, Version 2.0 (the \"License\");\n",
              "// you may not use this file except in compliance with the License.\n",
              "// You may obtain a copy of the License at\n",
              "//\n",
              "//      http://www.apache.org/licenses/LICENSE-2.0\n",
              "//\n",
              "// Unless required by applicable law or agreed to in writing, software\n",
              "// distributed under the License is distributed on an \"AS IS\" BASIS,\n",
              "// WITHOUT WARRANTIES OR CONDITIONS OF ANY KIND, either express or implied.\n",
              "// See the License for the specific language governing permissions and\n",
              "// limitations under the License.\n",
              "\n",
              "/**\n",
              " * @fileoverview Helpers for google.colab Python module.\n",
              " */\n",
              "(function(scope) {\n",
              "function span(text, styleAttributes = {}) {\n",
              "  const element = document.createElement('span');\n",
              "  element.textContent = text;\n",
              "  for (const key of Object.keys(styleAttributes)) {\n",
              "    element.style[key] = styleAttributes[key];\n",
              "  }\n",
              "  return element;\n",
              "}\n",
              "\n",
              "// Max number of bytes which will be uploaded at a time.\n",
              "const MAX_PAYLOAD_SIZE = 100 * 1024;\n",
              "\n",
              "function _uploadFiles(inputId, outputId) {\n",
              "  const steps = uploadFilesStep(inputId, outputId);\n",
              "  const outputElement = document.getElementById(outputId);\n",
              "  // Cache steps on the outputElement to make it available for the next call\n",
              "  // to uploadFilesContinue from Python.\n",
              "  outputElement.steps = steps;\n",
              "\n",
              "  return _uploadFilesContinue(outputId);\n",
              "}\n",
              "\n",
              "// This is roughly an async generator (not supported in the browser yet),\n",
              "// where there are multiple asynchronous steps and the Python side is going\n",
              "// to poll for completion of each step.\n",
              "// This uses a Promise to block the python side on completion of each step,\n",
              "// then passes the result of the previous step as the input to the next step.\n",
              "function _uploadFilesContinue(outputId) {\n",
              "  const outputElement = document.getElementById(outputId);\n",
              "  const steps = outputElement.steps;\n",
              "\n",
              "  const next = steps.next(outputElement.lastPromiseValue);\n",
              "  return Promise.resolve(next.value.promise).then((value) => {\n",
              "    // Cache the last promise value to make it available to the next\n",
              "    // step of the generator.\n",
              "    outputElement.lastPromiseValue = value;\n",
              "    return next.value.response;\n",
              "  });\n",
              "}\n",
              "\n",
              "/**\n",
              " * Generator function which is called between each async step of the upload\n",
              " * process.\n",
              " * @param {string} inputId Element ID of the input file picker element.\n",
              " * @param {string} outputId Element ID of the output display.\n",
              " * @return {!Iterable<!Object>} Iterable of next steps.\n",
              " */\n",
              "function* uploadFilesStep(inputId, outputId) {\n",
              "  const inputElement = document.getElementById(inputId);\n",
              "  inputElement.disabled = false;\n",
              "\n",
              "  const outputElement = document.getElementById(outputId);\n",
              "  outputElement.innerHTML = '';\n",
              "\n",
              "  const pickedPromise = new Promise((resolve) => {\n",
              "    inputElement.addEventListener('change', (e) => {\n",
              "      resolve(e.target.files);\n",
              "    });\n",
              "  });\n",
              "\n",
              "  const cancel = document.createElement('button');\n",
              "  inputElement.parentElement.appendChild(cancel);\n",
              "  cancel.textContent = 'Cancel upload';\n",
              "  const cancelPromise = new Promise((resolve) => {\n",
              "    cancel.onclick = () => {\n",
              "      resolve(null);\n",
              "    };\n",
              "  });\n",
              "\n",
              "  // Wait for the user to pick the files.\n",
              "  const files = yield {\n",
              "    promise: Promise.race([pickedPromise, cancelPromise]),\n",
              "    response: {\n",
              "      action: 'starting',\n",
              "    }\n",
              "  };\n",
              "\n",
              "  cancel.remove();\n",
              "\n",
              "  // Disable the input element since further picks are not allowed.\n",
              "  inputElement.disabled = true;\n",
              "\n",
              "  if (!files) {\n",
              "    return {\n",
              "      response: {\n",
              "        action: 'complete',\n",
              "      }\n",
              "    };\n",
              "  }\n",
              "\n",
              "  for (const file of files) {\n",
              "    const li = document.createElement('li');\n",
              "    li.append(span(file.name, {fontWeight: 'bold'}));\n",
              "    li.append(span(\n",
              "        `(${file.type || 'n/a'}) - ${file.size} bytes, ` +\n",
              "        `last modified: ${\n",
              "            file.lastModifiedDate ? file.lastModifiedDate.toLocaleDateString() :\n",
              "                                    'n/a'} - `));\n",
              "    const percent = span('0% done');\n",
              "    li.appendChild(percent);\n",
              "\n",
              "    outputElement.appendChild(li);\n",
              "\n",
              "    const fileDataPromise = new Promise((resolve) => {\n",
              "      const reader = new FileReader();\n",
              "      reader.onload = (e) => {\n",
              "        resolve(e.target.result);\n",
              "      };\n",
              "      reader.readAsArrayBuffer(file);\n",
              "    });\n",
              "    // Wait for the data to be ready.\n",
              "    let fileData = yield {\n",
              "      promise: fileDataPromise,\n",
              "      response: {\n",
              "        action: 'continue',\n",
              "      }\n",
              "    };\n",
              "\n",
              "    // Use a chunked sending to avoid message size limits. See b/62115660.\n",
              "    let position = 0;\n",
              "    do {\n",
              "      const length = Math.min(fileData.byteLength - position, MAX_PAYLOAD_SIZE);\n",
              "      const chunk = new Uint8Array(fileData, position, length);\n",
              "      position += length;\n",
              "\n",
              "      const base64 = btoa(String.fromCharCode.apply(null, chunk));\n",
              "      yield {\n",
              "        response: {\n",
              "          action: 'append',\n",
              "          file: file.name,\n",
              "          data: base64,\n",
              "        },\n",
              "      };\n",
              "\n",
              "      let percentDone = fileData.byteLength === 0 ?\n",
              "          100 :\n",
              "          Math.round((position / fileData.byteLength) * 100);\n",
              "      percent.textContent = `${percentDone}% done`;\n",
              "\n",
              "    } while (position < fileData.byteLength);\n",
              "  }\n",
              "\n",
              "  // All done.\n",
              "  yield {\n",
              "    response: {\n",
              "      action: 'complete',\n",
              "    }\n",
              "  };\n",
              "}\n",
              "\n",
              "scope.google = scope.google || {};\n",
              "scope.google.colab = scope.google.colab || {};\n",
              "scope.google.colab._files = {\n",
              "  _uploadFiles,\n",
              "  _uploadFilesContinue,\n",
              "};\n",
              "})(self);\n",
              "</script> "
            ]
          },
          "metadata": {}
        },
        {
          "output_type": "stream",
          "name": "stdout",
          "text": [
            "Saving flight.csv to flight (1).csv\n"
          ]
        }
      ],
      "source": [
        "# Importting the file\n",
        "from google.colab import files\n",
        "import pandas as pd\n",
        "import numpy as np\n",
        "import datetime\n",
        "\n",
        "\n",
        "uploaded = files.upload()"
      ]
    },
    {
      "cell_type": "code",
      "source": [
        "# Reading the dataframe and assigning null values\n",
        "file_name = list(uploaded.keys())[0]\n",
        "df = pd.read_csv('flight.csv', na_values=['.', '#NAME?', '-', '#', 'NaN', '?', 'NaT'])\n",
        "\n",
        "# Displaying the first five rows\n",
        "df.head(9)"
      ],
      "metadata": {
        "colab": {
          "base_uri": "https://localhost:8080/",
          "height": 256
        },
        "id": "v6N0U_CPrp_h",
        "outputId": "a41f64d5-9dec-41f5-ebad-3a0553a63d65"
      },
      "execution_count": 108,
      "outputs": [
        {
          "output_type": "execute_result",
          "data": {
            "text/plain": [
              "    MEMBER_NO   FFP_DATE FIRST_FLIGHT_DATE  GENDER  FFP_TIER   WORK_CITY  \\\n",
              "0       54993  11/2/2006        12/24/2008    Male         6         NaN   \n",
              "1       28065  2/19/2007          8/3/2007    Male         6         NaN   \n",
              "..        ...        ...               ...     ...       ...         ...   \n",
              "7       22631   4/9/2010          4/9/2010  Female         6  wenzhoushi   \n",
              "8       32197   6/7/2011          7/1/2011    Male         5      DRANCY   \n",
              "\n",
              "   WORK_PROVINCE WORK_COUNTRY   AGE  LOAD_TIME  ...  SUM_YR_2  SEG_KM_SUM  \\\n",
              "0        beijing           CN  31.0  3/31/2014  ...  234188.0      580717   \n",
              "1        beijing           CN  42.0  3/31/2014  ...  167434.0      293678   \n",
              "..           ...          ...   ...        ...  ...       ...         ...   \n",
              "7       zhejiang           CN  50.0  3/31/2014  ...  114971.0      287230   \n",
              "8            NaN           FR  50.0  3/31/2014  ...   87401.0      321489   \n",
              "\n",
              "    LAST_FLIGHT_DATE  LAST_TO_END  AVG_INTERVAL MAX_INTERVAL  EXCHANGE_COUNT  \\\n",
              "0          3/31/2014            1      3.483254           18              34   \n",
              "1          3/25/2014            7      5.194245           17              29   \n",
              "..               ...          ...           ...          ...             ...   \n",
              "7          3/29/2014            3     10.111111           45               7   \n",
              "8          3/26/2014            6     13.054545           94               5   \n",
              "\n",
              "    avg_discount  Points_Sum  Point_NotFlight  \n",
              "0       0.961639      619760               50  \n",
              "1       1.252314      415768               33  \n",
              "..           ...         ...              ...  \n",
              "7       0.962070      351198               14  \n",
              "8       0.828478      295158                7  \n",
              "\n",
              "[9 rows x 23 columns]"
            ],
            "text/html": [
              "\n",
              "  <div id=\"df-710dbe39-4b03-4316-acd4-d9cb7450e297\" class=\"colab-df-container\">\n",
              "    <div>\n",
              "<style scoped>\n",
              "    .dataframe tbody tr th:only-of-type {\n",
              "        vertical-align: middle;\n",
              "    }\n",
              "\n",
              "    .dataframe tbody tr th {\n",
              "        vertical-align: top;\n",
              "    }\n",
              "\n",
              "    .dataframe thead th {\n",
              "        text-align: right;\n",
              "    }\n",
              "</style>\n",
              "<table border=\"1\" class=\"dataframe\">\n",
              "  <thead>\n",
              "    <tr style=\"text-align: right;\">\n",
              "      <th></th>\n",
              "      <th>MEMBER_NO</th>\n",
              "      <th>FFP_DATE</th>\n",
              "      <th>FIRST_FLIGHT_DATE</th>\n",
              "      <th>GENDER</th>\n",
              "      <th>FFP_TIER</th>\n",
              "      <th>WORK_CITY</th>\n",
              "      <th>WORK_PROVINCE</th>\n",
              "      <th>WORK_COUNTRY</th>\n",
              "      <th>AGE</th>\n",
              "      <th>LOAD_TIME</th>\n",
              "      <th>...</th>\n",
              "      <th>SUM_YR_2</th>\n",
              "      <th>SEG_KM_SUM</th>\n",
              "      <th>LAST_FLIGHT_DATE</th>\n",
              "      <th>LAST_TO_END</th>\n",
              "      <th>AVG_INTERVAL</th>\n",
              "      <th>MAX_INTERVAL</th>\n",
              "      <th>EXCHANGE_COUNT</th>\n",
              "      <th>avg_discount</th>\n",
              "      <th>Points_Sum</th>\n",
              "      <th>Point_NotFlight</th>\n",
              "    </tr>\n",
              "  </thead>\n",
              "  <tbody>\n",
              "    <tr>\n",
              "      <th>0</th>\n",
              "      <td>54993</td>\n",
              "      <td>11/2/2006</td>\n",
              "      <td>12/24/2008</td>\n",
              "      <td>Male</td>\n",
              "      <td>6</td>\n",
              "      <td>NaN</td>\n",
              "      <td>beijing</td>\n",
              "      <td>CN</td>\n",
              "      <td>31.0</td>\n",
              "      <td>3/31/2014</td>\n",
              "      <td>...</td>\n",
              "      <td>234188.0</td>\n",
              "      <td>580717</td>\n",
              "      <td>3/31/2014</td>\n",
              "      <td>1</td>\n",
              "      <td>3.483254</td>\n",
              "      <td>18</td>\n",
              "      <td>34</td>\n",
              "      <td>0.961639</td>\n",
              "      <td>619760</td>\n",
              "      <td>50</td>\n",
              "    </tr>\n",
              "    <tr>\n",
              "      <th>1</th>\n",
              "      <td>28065</td>\n",
              "      <td>2/19/2007</td>\n",
              "      <td>8/3/2007</td>\n",
              "      <td>Male</td>\n",
              "      <td>6</td>\n",
              "      <td>NaN</td>\n",
              "      <td>beijing</td>\n",
              "      <td>CN</td>\n",
              "      <td>42.0</td>\n",
              "      <td>3/31/2014</td>\n",
              "      <td>...</td>\n",
              "      <td>167434.0</td>\n",
              "      <td>293678</td>\n",
              "      <td>3/25/2014</td>\n",
              "      <td>7</td>\n",
              "      <td>5.194245</td>\n",
              "      <td>17</td>\n",
              "      <td>29</td>\n",
              "      <td>1.252314</td>\n",
              "      <td>415768</td>\n",
              "      <td>33</td>\n",
              "    </tr>\n",
              "    <tr>\n",
              "      <th>...</th>\n",
              "      <td>...</td>\n",
              "      <td>...</td>\n",
              "      <td>...</td>\n",
              "      <td>...</td>\n",
              "      <td>...</td>\n",
              "      <td>...</td>\n",
              "      <td>...</td>\n",
              "      <td>...</td>\n",
              "      <td>...</td>\n",
              "      <td>...</td>\n",
              "      <td>...</td>\n",
              "      <td>...</td>\n",
              "      <td>...</td>\n",
              "      <td>...</td>\n",
              "      <td>...</td>\n",
              "      <td>...</td>\n",
              "      <td>...</td>\n",
              "      <td>...</td>\n",
              "      <td>...</td>\n",
              "      <td>...</td>\n",
              "      <td>...</td>\n",
              "    </tr>\n",
              "    <tr>\n",
              "      <th>7</th>\n",
              "      <td>22631</td>\n",
              "      <td>4/9/2010</td>\n",
              "      <td>4/9/2010</td>\n",
              "      <td>Female</td>\n",
              "      <td>6</td>\n",
              "      <td>wenzhoushi</td>\n",
              "      <td>zhejiang</td>\n",
              "      <td>CN</td>\n",
              "      <td>50.0</td>\n",
              "      <td>3/31/2014</td>\n",
              "      <td>...</td>\n",
              "      <td>114971.0</td>\n",
              "      <td>287230</td>\n",
              "      <td>3/29/2014</td>\n",
              "      <td>3</td>\n",
              "      <td>10.111111</td>\n",
              "      <td>45</td>\n",
              "      <td>7</td>\n",
              "      <td>0.962070</td>\n",
              "      <td>351198</td>\n",
              "      <td>14</td>\n",
              "    </tr>\n",
              "    <tr>\n",
              "      <th>8</th>\n",
              "      <td>32197</td>\n",
              "      <td>6/7/2011</td>\n",
              "      <td>7/1/2011</td>\n",
              "      <td>Male</td>\n",
              "      <td>5</td>\n",
              "      <td>DRANCY</td>\n",
              "      <td>NaN</td>\n",
              "      <td>FR</td>\n",
              "      <td>50.0</td>\n",
              "      <td>3/31/2014</td>\n",
              "      <td>...</td>\n",
              "      <td>87401.0</td>\n",
              "      <td>321489</td>\n",
              "      <td>3/26/2014</td>\n",
              "      <td>6</td>\n",
              "      <td>13.054545</td>\n",
              "      <td>94</td>\n",
              "      <td>5</td>\n",
              "      <td>0.828478</td>\n",
              "      <td>295158</td>\n",
              "      <td>7</td>\n",
              "    </tr>\n",
              "  </tbody>\n",
              "</table>\n",
              "<p>9 rows × 23 columns</p>\n",
              "</div>\n",
              "    <div class=\"colab-df-buttons\">\n",
              "\n",
              "  <div class=\"colab-df-container\">\n",
              "    <button class=\"colab-df-convert\" onclick=\"convertToInteractive('df-710dbe39-4b03-4316-acd4-d9cb7450e297')\"\n",
              "            title=\"Convert this dataframe to an interactive table.\"\n",
              "            style=\"display:none;\">\n",
              "\n",
              "  <svg xmlns=\"http://www.w3.org/2000/svg\" height=\"24px\" viewBox=\"0 -960 960 960\">\n",
              "    <path d=\"M120-120v-720h720v720H120Zm60-500h600v-160H180v160Zm220 220h160v-160H400v160Zm0 220h160v-160H400v160ZM180-400h160v-160H180v160Zm440 0h160v-160H620v160ZM180-180h160v-160H180v160Zm440 0h160v-160H620v160Z\"/>\n",
              "  </svg>\n",
              "    </button>\n",
              "\n",
              "  <style>\n",
              "    .colab-df-container {\n",
              "      display:flex;\n",
              "      gap: 12px;\n",
              "    }\n",
              "\n",
              "    .colab-df-convert {\n",
              "      background-color: #E8F0FE;\n",
              "      border: none;\n",
              "      border-radius: 50%;\n",
              "      cursor: pointer;\n",
              "      display: none;\n",
              "      fill: #1967D2;\n",
              "      height: 32px;\n",
              "      padding: 0 0 0 0;\n",
              "      width: 32px;\n",
              "    }\n",
              "\n",
              "    .colab-df-convert:hover {\n",
              "      background-color: #E2EBFA;\n",
              "      box-shadow: 0px 1px 2px rgba(60, 64, 67, 0.3), 0px 1px 3px 1px rgba(60, 64, 67, 0.15);\n",
              "      fill: #174EA6;\n",
              "    }\n",
              "\n",
              "    .colab-df-buttons div {\n",
              "      margin-bottom: 4px;\n",
              "    }\n",
              "\n",
              "    [theme=dark] .colab-df-convert {\n",
              "      background-color: #3B4455;\n",
              "      fill: #D2E3FC;\n",
              "    }\n",
              "\n",
              "    [theme=dark] .colab-df-convert:hover {\n",
              "      background-color: #434B5C;\n",
              "      box-shadow: 0px 1px 3px 1px rgba(0, 0, 0, 0.15);\n",
              "      filter: drop-shadow(0px 1px 2px rgba(0, 0, 0, 0.3));\n",
              "      fill: #FFFFFF;\n",
              "    }\n",
              "  </style>\n",
              "\n",
              "    <script>\n",
              "      const buttonEl =\n",
              "        document.querySelector('#df-710dbe39-4b03-4316-acd4-d9cb7450e297 button.colab-df-convert');\n",
              "      buttonEl.style.display =\n",
              "        google.colab.kernel.accessAllowed ? 'block' : 'none';\n",
              "\n",
              "      async function convertToInteractive(key) {\n",
              "        const element = document.querySelector('#df-710dbe39-4b03-4316-acd4-d9cb7450e297');\n",
              "        const dataTable =\n",
              "          await google.colab.kernel.invokeFunction('convertToInteractive',\n",
              "                                                    [key], {});\n",
              "        if (!dataTable) return;\n",
              "\n",
              "        const docLinkHtml = 'Like what you see? Visit the ' +\n",
              "          '<a target=\"_blank\" href=https://colab.research.google.com/notebooks/data_table.ipynb>data table notebook</a>'\n",
              "          + ' to learn more about interactive tables.';\n",
              "        element.innerHTML = '';\n",
              "        dataTable['output_type'] = 'display_data';\n",
              "        await google.colab.output.renderOutput(dataTable, element);\n",
              "        const docLink = document.createElement('div');\n",
              "        docLink.innerHTML = docLinkHtml;\n",
              "        element.appendChild(docLink);\n",
              "      }\n",
              "    </script>\n",
              "  </div>\n",
              "\n",
              "\n",
              "<div id=\"df-801c9783-0346-4941-8cdd-bcb4e747a715\">\n",
              "  <button class=\"colab-df-quickchart\" onclick=\"quickchart('df-801c9783-0346-4941-8cdd-bcb4e747a715')\"\n",
              "            title=\"Suggest charts\"\n",
              "            style=\"display:none;\">\n",
              "\n",
              "<svg xmlns=\"http://www.w3.org/2000/svg\" height=\"24px\"viewBox=\"0 0 24 24\"\n",
              "     width=\"24px\">\n",
              "    <g>\n",
              "        <path d=\"M19 3H5c-1.1 0-2 .9-2 2v14c0 1.1.9 2 2 2h14c1.1 0 2-.9 2-2V5c0-1.1-.9-2-2-2zM9 17H7v-7h2v7zm4 0h-2V7h2v10zm4 0h-2v-4h2v4z\"/>\n",
              "    </g>\n",
              "</svg>\n",
              "  </button>\n",
              "\n",
              "<style>\n",
              "  .colab-df-quickchart {\n",
              "      --bg-color: #E8F0FE;\n",
              "      --fill-color: #1967D2;\n",
              "      --hover-bg-color: #E2EBFA;\n",
              "      --hover-fill-color: #174EA6;\n",
              "      --disabled-fill-color: #AAA;\n",
              "      --disabled-bg-color: #DDD;\n",
              "  }\n",
              "\n",
              "  [theme=dark] .colab-df-quickchart {\n",
              "      --bg-color: #3B4455;\n",
              "      --fill-color: #D2E3FC;\n",
              "      --hover-bg-color: #434B5C;\n",
              "      --hover-fill-color: #FFFFFF;\n",
              "      --disabled-bg-color: #3B4455;\n",
              "      --disabled-fill-color: #666;\n",
              "  }\n",
              "\n",
              "  .colab-df-quickchart {\n",
              "    background-color: var(--bg-color);\n",
              "    border: none;\n",
              "    border-radius: 50%;\n",
              "    cursor: pointer;\n",
              "    display: none;\n",
              "    fill: var(--fill-color);\n",
              "    height: 32px;\n",
              "    padding: 0;\n",
              "    width: 32px;\n",
              "  }\n",
              "\n",
              "  .colab-df-quickchart:hover {\n",
              "    background-color: var(--hover-bg-color);\n",
              "    box-shadow: 0 1px 2px rgba(60, 64, 67, 0.3), 0 1px 3px 1px rgba(60, 64, 67, 0.15);\n",
              "    fill: var(--button-hover-fill-color);\n",
              "  }\n",
              "\n",
              "  .colab-df-quickchart-complete:disabled,\n",
              "  .colab-df-quickchart-complete:disabled:hover {\n",
              "    background-color: var(--disabled-bg-color);\n",
              "    fill: var(--disabled-fill-color);\n",
              "    box-shadow: none;\n",
              "  }\n",
              "\n",
              "  .colab-df-spinner {\n",
              "    border: 2px solid var(--fill-color);\n",
              "    border-color: transparent;\n",
              "    border-bottom-color: var(--fill-color);\n",
              "    animation:\n",
              "      spin 1s steps(1) infinite;\n",
              "  }\n",
              "\n",
              "  @keyframes spin {\n",
              "    0% {\n",
              "      border-color: transparent;\n",
              "      border-bottom-color: var(--fill-color);\n",
              "      border-left-color: var(--fill-color);\n",
              "    }\n",
              "    20% {\n",
              "      border-color: transparent;\n",
              "      border-left-color: var(--fill-color);\n",
              "      border-top-color: var(--fill-color);\n",
              "    }\n",
              "    30% {\n",
              "      border-color: transparent;\n",
              "      border-left-color: var(--fill-color);\n",
              "      border-top-color: var(--fill-color);\n",
              "      border-right-color: var(--fill-color);\n",
              "    }\n",
              "    40% {\n",
              "      border-color: transparent;\n",
              "      border-right-color: var(--fill-color);\n",
              "      border-top-color: var(--fill-color);\n",
              "    }\n",
              "    60% {\n",
              "      border-color: transparent;\n",
              "      border-right-color: var(--fill-color);\n",
              "    }\n",
              "    80% {\n",
              "      border-color: transparent;\n",
              "      border-right-color: var(--fill-color);\n",
              "      border-bottom-color: var(--fill-color);\n",
              "    }\n",
              "    90% {\n",
              "      border-color: transparent;\n",
              "      border-bottom-color: var(--fill-color);\n",
              "    }\n",
              "  }\n",
              "</style>\n",
              "\n",
              "  <script>\n",
              "    async function quickchart(key) {\n",
              "      const quickchartButtonEl =\n",
              "        document.querySelector('#' + key + ' button');\n",
              "      quickchartButtonEl.disabled = true;  // To prevent multiple clicks.\n",
              "      quickchartButtonEl.classList.add('colab-df-spinner');\n",
              "      try {\n",
              "        const charts = await google.colab.kernel.invokeFunction(\n",
              "            'suggestCharts', [key], {});\n",
              "      } catch (error) {\n",
              "        console.error('Error during call to suggestCharts:', error);\n",
              "      }\n",
              "      quickchartButtonEl.classList.remove('colab-df-spinner');\n",
              "      quickchartButtonEl.classList.add('colab-df-quickchart-complete');\n",
              "    }\n",
              "    (() => {\n",
              "      let quickchartButtonEl =\n",
              "        document.querySelector('#df-801c9783-0346-4941-8cdd-bcb4e747a715 button');\n",
              "      quickchartButtonEl.style.display =\n",
              "        google.colab.kernel.accessAllowed ? 'block' : 'none';\n",
              "    })();\n",
              "  </script>\n",
              "</div>\n",
              "\n",
              "    </div>\n",
              "  </div>\n"
            ],
            "application/vnd.google.colaboratory.intrinsic+json": {
              "type": "dataframe",
              "variable_name": "df"
            }
          },
          "metadata": {},
          "execution_count": 108
        }
      ]
    },
    {
      "cell_type": "code",
      "source": [
        "# Getting a summary of the dataset\n",
        "df.info()"
      ],
      "metadata": {
        "colab": {
          "base_uri": "https://localhost:8080/"
        },
        "id": "KKD1lkibwy5k",
        "outputId": "e223d44f-35f7-4c98-f498-850255c910b1"
      },
      "execution_count": 109,
      "outputs": [
        {
          "output_type": "stream",
          "name": "stdout",
          "text": [
            "<class 'pandas.core.frame.DataFrame'>\n",
            "RangeIndex: 62988 entries, 0 to 62987\n",
            "Data columns (total 23 columns):\n",
            " #   Column             Non-Null Count  Dtype  \n",
            "---  ------             --------------  -----  \n",
            " 0   MEMBER_NO          62988 non-null  int64  \n",
            " 1   FFP_DATE           62988 non-null  object \n",
            " 2   FIRST_FLIGHT_DATE  62988 non-null  object \n",
            " 3   GENDER             62985 non-null  object \n",
            " 4   FFP_TIER           62988 non-null  int64  \n",
            " 5   WORK_CITY          59970 non-null  object \n",
            " 6   WORK_PROVINCE      58545 non-null  object \n",
            " 7   WORK_COUNTRY       62962 non-null  object \n",
            " 8   AGE                62568 non-null  float64\n",
            " 9   LOAD_TIME          62988 non-null  object \n",
            " 10  FLIGHT_COUNT       62988 non-null  int64  \n",
            " 11  BP_SUM             62988 non-null  int64  \n",
            " 12  SUM_YR_1           62437 non-null  float64\n",
            " 13  SUM_YR_2           62850 non-null  float64\n",
            " 14  SEG_KM_SUM         62988 non-null  int64  \n",
            " 15  LAST_FLIGHT_DATE   62988 non-null  object \n",
            " 16  LAST_TO_END        62988 non-null  int64  \n",
            " 17  AVG_INTERVAL       62988 non-null  float64\n",
            " 18  MAX_INTERVAL       62988 non-null  int64  \n",
            " 19  EXCHANGE_COUNT     62988 non-null  int64  \n",
            " 20  avg_discount       62988 non-null  float64\n",
            " 21  Points_Sum         62988 non-null  int64  \n",
            " 22  Point_NotFlight    62988 non-null  int64  \n",
            "dtypes: float64(5), int64(10), object(8)\n",
            "memory usage: 11.1+ MB\n"
          ]
        }
      ]
    },
    {
      "cell_type": "code",
      "source": [
        "# Get the count of null values in each column\n",
        "null_counts = df.isnull().sum()\n",
        "print(null_counts)"
      ],
      "metadata": {
        "colab": {
          "base_uri": "https://localhost:8080/"
        },
        "id": "p4ROWfn4w32A",
        "outputId": "5365f26a-3512-4135-b03f-22c6742a0877"
      },
      "execution_count": 110,
      "outputs": [
        {
          "output_type": "stream",
          "name": "stdout",
          "text": [
            "MEMBER_NO          0\n",
            "FFP_DATE           0\n",
            "                  ..\n",
            "Points_Sum         0\n",
            "Point_NotFlight    0\n",
            "Length: 23, dtype: int64\n"
          ]
        }
      ]
    },
    {
      "cell_type": "markdown",
      "source": [
        "Handling Missing Values"
      ],
      "metadata": {
        "id": "Q3Sz3EI9Bobk"
      }
    },
    {
      "cell_type": "code",
      "source": [
        "# Work_City and Work_Province columns have about 9% of missing data\n",
        "# 5 other columns have less than 5% missing values so the row will be removed"
      ],
      "metadata": {
        "id": "XzYKz9q5w9TN"
      },
      "execution_count": 111,
      "outputs": []
    },
    {
      "cell_type": "code",
      "source": [
        "# Removing rows with low number of missing value columns\n",
        "important_columns = ['GENDER', 'WORK_COUNTRY', 'AGE', 'SUM_YR_1', 'SUM_YR_2']\n",
        "df_cleaned = df.dropna(subset=important_columns)\n",
        "\n",
        "print(f\"Number of rows after removing rows with missing values in important columns: {df_cleaned.shape[0]}\")\n",
        "null_counts_new = df_cleaned.isnull().sum()\n",
        "print(null_counts_new)"
      ],
      "metadata": {
        "colab": {
          "base_uri": "https://localhost:8080/"
        },
        "id": "i1lUSZEow_nY",
        "outputId": "1d3cc685-cefd-45e8-ff1a-bfccd2ca9551"
      },
      "execution_count": 112,
      "outputs": [
        {
          "output_type": "stream",
          "name": "stdout",
          "text": [
            "Number of rows after removing rows with missing values in important columns: 61856\n",
            "MEMBER_NO          0\n",
            "FFP_DATE           0\n",
            "                  ..\n",
            "Points_Sum         0\n",
            "Point_NotFlight    0\n",
            "Length: 23, dtype: int64\n"
          ]
        }
      ]
    },
    {
      "cell_type": "code",
      "source": [
        "# Removed rows with null values in columns having less than 5% missing data\n",
        "# Handling values for data retention in columns with about 9% missing values --> Work_City, Work_Province"
      ],
      "metadata": {
        "id": "hWc4stCOxIz8"
      },
      "execution_count": 113,
      "outputs": []
    },
    {
      "cell_type": "markdown",
      "source": [
        "Cleaning the Complete Columns"
      ],
      "metadata": {
        "id": "EHi4sAX2BvhM"
      }
    },
    {
      "cell_type": "code",
      "source": [
        "# Cleaning the Work Country Column by correcting repeated values and values in a different language and wrong values\n",
        "countries = df_cleaned['WORK_COUNTRY'].unique()\n",
        "print (countries)"
      ],
      "metadata": {
        "colab": {
          "base_uri": "https://localhost:8080/"
        },
        "id": "S7FNm5xuxWTf",
        "outputId": "273ddcb4-7d94-4d12-a9f1-4c873e8a9a3b"
      },
      "execution_count": 114,
      "outputs": [
        {
          "output_type": "stream",
          "name": "stdout",
          "text": [
            "['CN' 'US' 'FR' 'JP' 'HK' 'MY' 'AU' 'NL' 'MX' 'CA' 'KR' 'PK' 'TH' 'SG'\n",
            " 'BR' 'PE' 'AE' 'HN' 'PH' 'ID' 'MO' 'GN' 'FL' 'KH' 'TW' 'VN' 'DE' 'IL'\n",
            " 'CH' 'PA' 'VT' 'EC' 'NG' 'BI' 'GT' 'BE' 'GL' 'NZ' 'FA' 'NI' 'KO' 'AN'\n",
            " 'CC' 'UV' 'MN' 'UK' 'AS' 'IT' 'OM' 'SE' 'BZ' 'IN' 'KZ' 'PT' 'NO' 'MS'\n",
            " 'FI' 'UZ' 'NE' 'AT' 'AA' 'HU' 'CY' 'EG' 'MA' '中' 'ES' 'MZ' 'IR' 'SW' 'RE'\n",
            " 'PS' 'KE' 'SN' 'BB' 'AZ' 'UA' 'LB' 'YE' 'GE' 'SI' 'KA' 'MV' 'RO' 'ZA'\n",
            " 'DK' 'AB' 'CD' 'UY' 'CM' 'TK' 'AR' 'BN' 'PN' 'BD' '北' 'SU' 'RU' '沈' 'GU'\n",
            " 'GB' 'ZW' 'PP' '芬' 'FO' 'IE' 'PR' 'BS' 'GH' 'SK' 'cn' 'TR' 'LA' 'BG' 'CL'\n",
            " 'CR' 'SA']\n"
          ]
        }
      ]
    },
    {
      "cell_type": "code",
      "source": [
        "country_code_replacement = {'cn': 'CN', '中': 'CN', '北': 'CN', '沈': 'CN', '芬': 'FI', 'FL' : 'FR', 'CH' : 'CN', 'VT' : 'VN', 'AN' : 'NL', 'UK' : 'GB', 'AA' : 'SA'}\n",
        "\n",
        "# Perform the replacement\n",
        "df_cleaned.loc[:, 'WORK_COUNTRY'] = df_cleaned['WORK_COUNTRY'].replace(country_code_replacement)\n",
        "\n",
        "countries_new = df_cleaned['WORK_COUNTRY'].unique()\n",
        "print(countries_new)\n"
      ],
      "metadata": {
        "colab": {
          "base_uri": "https://localhost:8080/"
        },
        "id": "RG2hDHJ8xbiG",
        "outputId": "9eb599a7-ecbd-4236-cda7-c226bdd63f25"
      },
      "execution_count": 115,
      "outputs": [
        {
          "output_type": "stream",
          "name": "stdout",
          "text": [
            "['CN' 'US' 'FR' 'JP' 'HK' 'MY' 'AU' 'NL' 'MX' 'CA' 'KR' 'PK' 'TH' 'SG'\n",
            " 'BR' 'PE' 'AE' 'HN' 'PH' 'ID' 'MO' 'GN' 'KH' 'TW' 'VN' 'DE' 'IL' 'PA'\n",
            " 'EC' 'NG' 'BI' 'GT' 'BE' 'GL' 'NZ' 'FA' 'NI' 'KO' 'CC' 'UV' 'MN' 'GB'\n",
            " 'AS' 'IT' 'OM' 'SE' 'BZ' 'IN' 'KZ' 'PT' 'NO' 'MS' 'FI' 'UZ' 'NE' 'AT'\n",
            " 'SA' 'HU' 'CY' 'EG' 'MA' 'ES' 'MZ' 'IR' 'SW' 'RE' 'PS' 'KE' 'SN' 'BB'\n",
            " 'AZ' 'UA' 'LB' 'YE' 'GE' 'SI' 'KA' 'MV' 'RO' 'ZA' 'DK' 'AB' 'CD' 'UY'\n",
            " 'CM' 'TK' 'AR' 'BN' 'PN' 'BD' 'SU' 'RU' 'GU' 'ZW' 'PP' 'FO' 'IE' 'PR'\n",
            " 'BS' 'GH' 'SK' 'TR' 'LA' 'BG' 'CL' 'CR']\n"
          ]
        }
      ]
    },
    {
      "cell_type": "code",
      "source": [
        "# Cleaning the WORK_COUNTRY column further by removing incorrect values\n",
        "\n",
        "values_to_drop = ['FA', 'KO', 'UV', 'MA', 'SW', 'KA', 'AB', 'SU', 'PP']\n",
        "df_cleaned2 = df_cleaned[~df_cleaned['WORK_COUNTRY'].isin(values_to_drop)]\n",
        "\n",
        "print (df_cleaned2['WORK_COUNTRY'].unique())"
      ],
      "metadata": {
        "colab": {
          "base_uri": "https://localhost:8080/"
        },
        "id": "D7w4TJ_4zLHG",
        "outputId": "620cd2f0-1863-4a2c-a965-ae9c3ce8a98a"
      },
      "execution_count": 116,
      "outputs": [
        {
          "output_type": "stream",
          "name": "stdout",
          "text": [
            "['CN' 'US' 'FR' 'JP' 'HK' 'MY' 'AU' 'NL' 'MX' 'CA' 'KR' 'PK' 'TH' 'SG'\n",
            " 'BR' 'PE' 'AE' 'HN' 'PH' 'ID' 'MO' 'GN' 'KH' 'TW' 'VN' 'DE' 'IL' 'PA'\n",
            " 'EC' 'NG' 'BI' 'GT' 'BE' 'GL' 'NZ' 'NI' 'CC' 'MN' 'GB' 'AS' 'IT' 'OM'\n",
            " 'SE' 'BZ' 'IN' 'KZ' 'PT' 'NO' 'MS' 'FI' 'UZ' 'NE' 'AT' 'SA' 'HU' 'CY'\n",
            " 'EG' 'ES' 'MZ' 'IR' 'RE' 'PS' 'KE' 'SN' 'BB' 'AZ' 'UA' 'LB' 'YE' 'GE'\n",
            " 'SI' 'MV' 'RO' 'ZA' 'DK' 'CD' 'UY' 'CM' 'TK' 'AR' 'BN' 'PN' 'BD' 'RU'\n",
            " 'GU' 'ZW' 'FO' 'IE' 'PR' 'BS' 'GH' 'SK' 'TR' 'LA' 'BG' 'CL' 'CR']\n"
          ]
        }
      ]
    },
    {
      "cell_type": "code",
      "source": [
        "# Adding a region column to characterize countries further for easier classification in cleaning\n",
        "# Characterizing countries with regions\n",
        "# Adding a region column\n",
        "\n",
        "# lists of countries for each region\n",
        "NA = ['US', 'CA', 'MX', 'HN', 'PA', 'GT', 'GL', 'NI', 'BZ', 'MS', 'BB', 'PR', 'BS', 'CR']\n",
        "EU = ['FR', 'NL', 'DE', 'BE', 'IT', 'SE', 'PT', 'NO', 'FI', 'AT', 'HU', 'UA', 'SI', 'RO', 'DK', 'RU', 'GB', 'FO', 'IE', 'SK', 'TR', 'BG', 'ES']\n",
        "ASIA = ['CN', 'JP', 'HK', 'MY', 'KR', 'PK', 'TH', 'SG', 'AE', 'PH', 'ID', 'MO', 'KH', 'TW', 'VN', 'IL', 'CC', 'MN', 'OM', 'IN', 'KZ', 'UZ', 'CY', 'IR', 'PS', 'AZ', 'LB', 'YE', 'GE', 'MV', 'BN', 'BD', 'CA', 'SA']\n",
        "OC = ['AU', 'NZ', 'AS', 'TK', 'PN', 'GU']\n",
        "SA = ['BR', 'PE', 'EC', 'UY', 'AR', 'CL']\n",
        "AF = ['GN', 'NG', 'BI', 'NE', 'EG', 'MZ', 'RE', 'KE', 'SN', 'ZA', 'CD', 'CM']\n",
        "\n",
        "\n",
        "# list to dictionary\n",
        "country_to_region = {}\n",
        "\n",
        "country_to_region.update({country: 'North America' for country in NA})\n",
        "country_to_region.update({country: 'Europe' for country in EU})\n",
        "country_to_region.update({country: 'Asia' for country in ASIA})\n",
        "country_to_region.update({country: 'Oceania' for country in OC})\n",
        "country_to_region.update({country: 'South America' for country in SA})\n",
        "\n",
        "df['WORK_REGION'] = None\n",
        "\n",
        "# Assigning regions based on the country\n",
        "for country, region in country_to_region.items():\n",
        "    df_cleaned2.loc[df_cleaned2['WORK_COUNTRY'] == country, 'WORK_REGION'] = region\n",
        "\n",
        "a = df_cleaned2['WORK_REGION'].unique()\n",
        "print(a)"
      ],
      "metadata": {
        "colab": {
          "base_uri": "https://localhost:8080/"
        },
        "id": "ESTQWDmOzPqt",
        "outputId": "03189abc-e5fa-4e92-8afc-188fb0f9370e"
      },
      "execution_count": 117,
      "outputs": [
        {
          "output_type": "stream",
          "name": "stderr",
          "text": [
            "<ipython-input-117-b7f4d7d3aada>:27: SettingWithCopyWarning: \n",
            "A value is trying to be set on a copy of a slice from a DataFrame.\n",
            "Try using .loc[row_indexer,col_indexer] = value instead\n",
            "\n",
            "See the caveats in the documentation: https://pandas.pydata.org/pandas-docs/stable/user_guide/indexing.html#returning-a-view-versus-a-copy\n",
            "  df_cleaned2.loc[df_cleaned2['WORK_COUNTRY'] == country, 'WORK_REGION'] = region\n"
          ]
        },
        {
          "output_type": "stream",
          "name": "stdout",
          "text": [
            "['Asia' 'North America' 'Europe' 'Oceania' 'South America' nan]\n"
          ]
        }
      ]
    },
    {
      "cell_type": "code",
      "source": [
        "# Slicing the dataset since Oceania is the relevant region to work on\n",
        "oceania_df = df_cleaned2[df_cleaned2['WORK_REGION'] == 'Oceania']"
      ],
      "metadata": {
        "id": "WCWi1dTAzivT"
      },
      "execution_count": 118,
      "outputs": []
    },
    {
      "cell_type": "markdown",
      "source": [
        "Cleaning the Work City Column"
      ],
      "metadata": {
        "id": "UkcGCQpI4Tud"
      }
    },
    {
      "cell_type": "code",
      "source": [
        "# Cleaning Work_City Column\n",
        "\n",
        "# Convert the 'WORK_CITY' column to uppercase using .loc\n",
        "oceania_df.loc[:, 'WORK_CITY'] = oceania_df['WORK_CITY'].str.upper()\n",
        "\n",
        "# Set pandas option to display all rows\n",
        "pd.set_option('display.max_rows', None)\n",
        "\n",
        "city_list = oceania_df['WORK_CITY'].unique()\n",
        "\n",
        "\n",
        "print(city_list)\n"
      ],
      "metadata": {
        "colab": {
          "base_uri": "https://localhost:8080/"
        },
        "id": "gdVC09Yu0Dj2",
        "outputId": "ac0b4424-ebe0-437f-a33e-791b3ee487f5"
      },
      "execution_count": 119,
      "outputs": [
        {
          "output_type": "stream",
          "name": "stdout",
          "text": [
            "[nan 'CRONULLA' 'VIC' 'VICTORIA' 'SYDNEY' 'CABRAMATTA' 'COLLAROY PLATEAU'\n",
            " 'BATTERY POINT' 'DONCOSTER EAST' 'SYDENY' 'MATRAVILLE' 'CANBERRA'\n",
            " 'MELBOURNE' 'SYANEY' 'PARRAMATTA B.C' 'NARWEE' 'HURSTVILLE'\n",
            " 'ENDEAVOUR HILLS' 'EASTWOOD' 'NAARADEN' 'GUILDFORD' 'NTH RICHMOND'\n",
            " 'EPPING' 'KOGARAH' 'BRISBANE' 'CROYDON' 'LISAROW' 'DANDENONG' 'SEAFORTU'\n",
            " 'SYDNY' 'NSW' 'MELBOURUE' 'MOORABBIN' 'DONCASTER' 'MELBUNE' 'MEIBOURNE'\n",
            " 'ASHFIELD' 'YDNEY' 'DANDENONG NORTH' 'WOLLONGONG' 'LALORPARK'\n",
            " 'LIVERPOOL BC' 'SYONEY' 'XINI' 'SOUTH MELBOURNE' 'CANLEY VALE' 'REDFERN'\n",
            " 'CHERRYBROOK' 'SYDNEN' 'ALLHAMING' 'AUCKLAND' 'CHATSWOOD' 'BEXLEY'\n",
            " 'AUSTRALA' 'ROCKDALE' 'ROSEMEAD' 'KENSINGTON' 'NEWCASTLE' 'AUSTRALIA'\n",
            " 'GLEN WAVER LEY' 'LREMORNE' 'WEST HOXTON' 'BANKSTOWN' 'NOWRA' 'PARKVILLE'\n",
            " 'THIRRDUL' 'LINLEYPOINT' 'MT WAVERLEY' 'ACTONA MEADOWS' 'MELBOWRNE'\n",
            " 'CAMPSIE' 'MELBOUME' 'TEMPLESTOWE' 'BALWYN NGRTH' 'PARRAMATTA'\n",
            " 'GRANVILLE' 'ESSENDON NORTH' 'ARTARMON' 'MELLBOURNE' 'YAGOONA'\n",
            " 'RYDALMERE' 'GLEN WAYVERLEY' 'SGDNEY' 'BROOKFIELD' 'BOX HIEE' 'GORDON'\n",
            " 'MARRICKVILLE' 'KINGSGROVE NSW' 'DEE WHY' 'DOORA' 'CHENGDUSHI' 'IVANHOE'\n",
            " 'PYRMONT' 'CLAYTON SOUTH' 'EIGHT MILE PLAINS' 'STRATHFIELD' 'KMGGROVE'\n",
            " 'CANDERRA' 'MEL' 'STEATHTIELD' 'ISTANBUL' 'PHNOM PENH' 'DARLING POINT'\n",
            " 'CARLINGFORD' 'TOORAK GDNS' 'GDD COAST' 'SHENYANG' 'TAMUNING' 'ACT'\n",
            " 'DUNEDIN' 'BRUNSWKK' 'NUSSBACH' 'SYLVANIA WATERS' 'TALLAI' 'MT GREEK'\n",
            " 'PERTH' 'CARNEGIE' 'RYDE' 'ENGGENBURG' 'GEELONG']\n"
          ]
        }
      ]
    },
    {
      "cell_type": "code",
      "source": [
        "# Replacing Sydney suburb names\n",
        "sydney_replacement = {'CHERRYBROOK': 'SYDNEY','STEATHTIELD': 'SYDNEY','RYDE': 'SYDNEY','SYLVANIA WATERS': 'SYDNEY','CARLINGFORD':'SYDNEY','DARLING POINT': 'SYDNEY',\n",
        "                      'STRATHFIELD':'SYDNEY','PYRMONT': 'SYDNEY','DEE WHY': 'SYDNEY','KINGSGROVE NSW': 'SYDNEY','EPPING': 'SYDNEY','CROYDON': 'SYDNEY','ASHFIELD': 'SYDNEY',\n",
        "                      'MARRICKVILLE': 'SYDNEY','GORDON': 'SYDNEY','RYDALMERE': 'SYDNEY','YAGOONA': 'SYDNEY', 'ARTARMON': 'SYDNEY','GRANVILLE': 'SYDNEY','PARRAMATTA': 'SYDNEY',\n",
        "                      'CAMPSIE': 'SYDNEY','LINLEYPOINT': 'SYDNEY','BANKSTOWN': 'SYDNEY','WEST HOXTON': 'SYDNEY', 'ROCKDALE': 'SYDNEY','AUSTRALIA': 'SYDNEY','AUSTRALA':\n",
        "                      'SYDNEY','BEXLEY': 'SYDNEY','CHATSWOOD': 'SYDNEY','REDFERN': 'SYDNEY','CANLEY VALE': 'AUSTRALIA','LIVERPOOL BC': 'SYDNEY','LALORPARK': 'SYDNEY',\n",
        "                      'NSW': 'SYDNEY','KOGARAH': 'SYDNEY','NTH RICHMOND': 'SYDNEY','EASTWOOD': 'SYDNEY','HURSTVILLE': 'SYDNEY','NARWEE': 'SYDNEY',\n",
        "                      'PARRAMATTA B.C': 'SYDNEY','MATRAVILLE': 'SYDNEY','COLLAROY PLATEAU' : 'SYDNEY', 'CABRAMATTA': 'SYDNEY','CRONULLA': 'SYDNEY',\n",
        "                      'SYDENY': 'SYDNEY', 'SYANEY': 'SYDNEY', 'SYDNY': 'SYDNEY', 'YDNEY': 'SYDNEY', 'SYONEY': 'SYDNEY', 'SYDNEN' : 'SYDNEY', 'SGDNEY' : 'SYDNEY'}\n",
        "\n",
        "# Performing the replacement\n",
        "oceania_df.loc[:, 'WORK_CITY'] = oceania_df['WORK_CITY'].replace(sydney_replacement)\n",
        "\n",
        "# Replacing Melbourne suburb names\n",
        "melbourne_replacement = {'ACTONA MEADOWS':'MELBOURNE','PARKVILLE':'MELBOURNE', 'CARNEGIE': 'MELBOURNE','BRUNSWKK': 'MELBOURNE', 'CLAYTON SOUTH': 'MELBOURNE','IVANHOE': 'MELBOURNE','GLEN WAYVERLEY': 'MELBOURNE',\n",
        "                         'ESSENDON NORTH': 'MELBOURNE','BALWYN NGRTH': 'MELBOURNE','TEMPLESTOWE': 'MELBOURNE','MT WAVERLEY': 'MELBOURNE','KENSINGTON': 'SYDNEY',\n",
        "                         'GLEN WAVER LEY': 'MELBOURNE','DANDENONG NORTH': 'MELBOURNE','DONCASTER': 'MELBOURNE', 'MOORABBIN': 'MELBOURNE','DANDENONG': 'MELBOURNE',\n",
        "                         'ENDEAVOUR HILLS': 'MELBOURNE','DONCOSTER EAST': 'MELBOURNE', 'VIC': 'MELBOURNE', 'VICTORIA': 'MELBOURNE', 'MELBUNE': 'MELBOURNE',\n",
        "                         'MEIBOURNE': 'MELBOURNE', 'SOUTH MELBOURNE': 'MELBOURNE', 'MELBOWRNE': 'MELBOURNE', 'MELBOUME' : 'MELBOURNE', 'MELLBOURNE' : 'MELBOURNE',\n",
        "                         'MELBOURUE': 'MELBOURNE', 'MEL': 'MELBOURNE'}\n",
        "\n",
        "# Performing the replacement\n",
        "oceania_df.loc[:, 'WORK_CITY'] = oceania_df['WORK_CITY'].replace(melbourne_replacement)\n",
        "\n",
        "# Replacing Perth suburb names\n",
        "perth_replacement = {'GUILDFORD': 'PERTH'}\n",
        "\n",
        "# Performing the replacement\n",
        "oceania_df.loc[:, 'WORK_CITY'] = oceania_df['WORK_CITY'].replace(perth_replacement)\n",
        "\n",
        "# Replacing Central Coast suburb names\n",
        "central_coast_replacement = {'LISAROW': 'CENTRAL COAST', 'SEAFORTU': 'CENTRAL COAST'}\n",
        "\n",
        "# Performing the replacement\n",
        "oceania_df.loc[:, 'WORK_CITY'] = oceania_df['WORK_CITY'].replace(central_coast_replacement)\n",
        "\n",
        "# Replacing other city names\n",
        "other_replacement = {'THIRRDUL': 'THIRROUL', 'BROOKFIELD': 'BRISBANE', 'EIGHT MILE PLAINS': 'BRISBANE', 'CANDERRA': 'CANBERRA', 'TOORAK GDNS': 'ADELAIDE',\n",
        "                     'TALLAI': 'GOLD COAST','GDD COAST': 'GOLD COAST', 'BATTERY POINT': 'HOBART'}\n",
        "# Performing the replacement\n",
        "oceania_df.loc[:, 'WORK_CITY'] = oceania_df['WORK_CITY'].replace(other_replacement)\n",
        "\n",
        "\n",
        "other_new = oceania_df['WORK_CITY'].unique()\n",
        "print(other_new)\n",
        "\n"
      ],
      "metadata": {
        "id": "quf4xy-11r-G",
        "colab": {
          "base_uri": "https://localhost:8080/"
        },
        "outputId": "c98d40c8-9b44-48a0-897a-1468ec61ae2a"
      },
      "execution_count": 120,
      "outputs": [
        {
          "output_type": "stream",
          "name": "stdout",
          "text": [
            "[nan 'SYDNEY' 'MELBOURNE' 'HOBART' 'CANBERRA' 'NAARADEN' 'PERTH'\n",
            " 'BRISBANE' 'CENTRAL COAST' 'WOLLONGONG' 'XINI' 'AUSTRALIA' 'ALLHAMING'\n",
            " 'AUCKLAND' 'ROSEMEAD' 'NEWCASTLE' 'LREMORNE' 'NOWRA' 'THIRROUL'\n",
            " 'BOX HIEE' 'DOORA' 'CHENGDUSHI' 'KMGGROVE' 'ISTANBUL' 'PHNOM PENH'\n",
            " 'ADELAIDE' 'GOLD COAST' 'SHENYANG' 'TAMUNING' 'ACT' 'DUNEDIN' 'NUSSBACH'\n",
            " 'MT GREEK' 'ENGGENBURG' 'GEELONG']\n"
          ]
        }
      ]
    },
    {
      "cell_type": "code",
      "source": [
        "# Dropping rows of Incorrect values\n",
        "values_to_drop = ['NAARADEN', 'XINI','ALLHAMING','ROSEMEAD', 'LREMORNE', 'BOX HIEE', 'DOORA', 'CHENGDUSHI', 'KMGGROVE', 'ISTANBUL',\n",
        " 'PHNOM PENH', 'SHENYANG','NUSSBACH', 'MT GREEK', 'ENGGENBURG' ]\n",
        "oceania_df = oceania_df.loc[~oceania_df['WORK_CITY'].isin(values_to_drop)]\n",
        "\n",
        "f = oceania_df['WORK_CITY'].unique()\n",
        "print(f)\n"
      ],
      "metadata": {
        "colab": {
          "base_uri": "https://localhost:8080/"
        },
        "id": "f83cJM6t4MGV",
        "outputId": "0776ba55-50de-45bb-8051-35973c489c02"
      },
      "execution_count": 121,
      "outputs": [
        {
          "output_type": "stream",
          "name": "stdout",
          "text": [
            "[nan 'SYDNEY' 'MELBOURNE' 'HOBART' 'CANBERRA' 'PERTH' 'BRISBANE'\n",
            " 'CENTRAL COAST' 'WOLLONGONG' 'AUSTRALIA' 'AUCKLAND' 'NEWCASTLE' 'NOWRA'\n",
            " 'THIRROUL' 'ADELAIDE' 'GOLD COAST' 'TAMUNING' 'ACT' 'DUNEDIN' 'GEELONG']\n"
          ]
        }
      ]
    },
    {
      "cell_type": "markdown",
      "source": [
        "Cleaning the Work Province Column"
      ],
      "metadata": {
        "id": "9Ac_R_tO4YSP"
      }
    },
    {
      "cell_type": "code",
      "source": [
        "# Convert the 'WORK_PROVINCE' column to uppercase using .loc\n",
        "oceania_df.loc[:, 'WORK_PROVINCE'] = oceania_df['WORK_PROVINCE'].str.upper()\n",
        "\n",
        "# Set pandas option to display all rows\n",
        "pd.set_option('display.max_rows', None)\n",
        "\n",
        "province_list = oceania_df['WORK_PROVINCE'].unique()\n",
        "\n",
        "print(province_list)"
      ],
      "metadata": {
        "colab": {
          "base_uri": "https://localhost:8080/"
        },
        "id": "TSIN-bgy4bTw",
        "outputId": "90f60907-2b5b-4e19-b503-7dd4ecd6efa1"
      },
      "execution_count": 122,
      "outputs": [
        {
          "output_type": "stream",
          "name": "stdout",
          "text": [
            "['VIC' 'NSW' 'AU' nan 'N.S.W' 'AUS' 'TASMANIA' 'VICTORIA' 'ACT' 'N S W'\n",
            " 'C' 'N.S.W.' 'SYDNEY' 'VICORIA' 'SW' 'NWN' 'AUSTRALA' 'NEW SOUTH WALES'\n",
            " 'W' 'VICTORY' 'QLD' 'N-S-W' 'QUEENSLAND' 'BETHUNGRA' 'SOUTH AUSTRACIA'\n",
            " 'TAMUNING' 'CANBERRA' 'AUSTARLIA' 'VICTOR' 'OTAGO' 'M.S.W' 'NJW']\n"
          ]
        }
      ]
    },
    {
      "cell_type": "code",
      "source": [
        "# Replacing Province names\n",
        "province_replacement = {'VIC': 'VICTORIA', 'NSW': 'NEW SOUTH WALES', 'N.S.W': 'NEW SOUTH WALES', 'AU': 'AUS','BETHUNGRA': 'NEW SOUTH WALES',\n",
        "                        'N S W': 'NEW SOUTH WALES','N.S.W.': 'NEW SOUTH WALES', 'SYDNEY': 'NEW SOUTH WALES','SW': 'NEW SOUTH WALES',\n",
        "                        'AUSTRILIA': 'AUS', 'NWN': 'NEW SOUTH WALES', 'AUSTRALA': 'AUS', 'W': 'NEW SOUTH WALES','VICTORY': 'VICTORIA', 'QLD': 'QUEENSLAND',\n",
        "                        'N-S-W': 'NEW SOUTH WALES', 'SOUTH AUSTRACIA': 'SOUTH AUSTRALIA', 'CANBERRA': 'ACT', 'AUSTRALIA': 'AUS',\n",
        "                        'VICTOR': 'VICTORY', 'M.S.W': 'NEW SOUTH WALES', 'NJW': 'NEW SOUTH WALES'}\n",
        "\n",
        "# Performing the replacement\n",
        "oceania_df.loc[:, 'WORK_PROVINCE'] = oceania_df['WORK_PROVINCE'].replace(province_replacement)\n",
        "\n",
        "\n",
        "province_new = oceania_df['WORK_PROVINCE'].unique()\n",
        "print(province_new)"
      ],
      "metadata": {
        "colab": {
          "base_uri": "https://localhost:8080/"
        },
        "id": "mlaUlhAy4kcX",
        "outputId": "5c78e7ad-558a-424a-fbfb-74fe468e1e17"
      },
      "execution_count": 123,
      "outputs": [
        {
          "output_type": "stream",
          "name": "stdout",
          "text": [
            "['VICTORIA' 'NEW SOUTH WALES' 'AUS' nan 'TASMANIA' 'ACT' 'C' 'VICORIA'\n",
            " 'QUEENSLAND' 'SOUTH AUSTRALIA' 'TAMUNING' 'AUSTARLIA' 'VICTORY' 'OTAGO']\n"
          ]
        }
      ]
    },
    {
      "cell_type": "code",
      "source": [
        "# Dropping rows of Incorrect values\n",
        "values_to_drop = ['C' ]\n",
        "oceania_df = oceania_df.loc[~oceania_df['WORK_PROVINCE'].isin(values_to_drop)]\n",
        "\n",
        "g = oceania_df['WORK_PROVINCE'].unique()\n",
        "print(g)"
      ],
      "metadata": {
        "colab": {
          "base_uri": "https://localhost:8080/"
        },
        "id": "__S9GQEd4-wP",
        "outputId": "a0d41180-f329-4c86-88b4-87ed7294ac0d"
      },
      "execution_count": 124,
      "outputs": [
        {
          "output_type": "stream",
          "name": "stdout",
          "text": [
            "['VICTORIA' 'NEW SOUTH WALES' 'AUS' nan 'TASMANIA' 'ACT' 'VICORIA'\n",
            " 'QUEENSLAND' 'SOUTH AUSTRALIA' 'TAMUNING' 'AUSTARLIA' 'VICTORY' 'OTAGO']\n"
          ]
        }
      ]
    },
    {
      "cell_type": "code",
      "source": [
        "# Work City, Province, and Country Columns are related and can help fill out each other\n",
        "# grouping rows in the following manner:\n",
        "# group 1 = (City, Null Province, Country)\n",
        "# group 2 = (Null City, Province, Country)\n",
        "# group 3 = (Null City, Null Province, Country)"
      ],
      "metadata": {
        "id": "RxHjPm705Bec"
      },
      "execution_count": 125,
      "outputs": []
    },
    {
      "cell_type": "markdown",
      "source": [
        "GROUP 1"
      ],
      "metadata": {
        "id": "eihP2APF6130"
      }
    },
    {
      "cell_type": "code",
      "source": [
        "# Using city names to fill null states (mapping)\n",
        "\n",
        "group1 = oceania_df[(oceania_df['WORK_CITY'].notnull()) & (oceania_df['WORK_PROVINCE'].isna())]\n",
        "\n",
        "city_to_state = {\n",
        "    'SYDNEY': 'NEW SOUTH WALES',\n",
        "    'MELBOURNE': 'VICTORIA',\n",
        "    'PERTH': 'WESTERN AUSTRALIA',\n",
        "    'CENTRAL COAST': 'QUEENSLAND',\n",
        "    'THIRROUL': 'NEW SOUTH WALES',\n",
        "    'BRISBANE': 'QUEENSLAND',\n",
        "    'ADELAIDE': 'SOUTH AUSTRALIA',\n",
        "    'GOLD COAST': 'QUEENSLAND',\n",
        "    'HOBART': 'TASMANIA',\n",
        "    'CANBERRA': 'ACT',\n",
        "    'WOLLOGONG':'NEW SOUTH WALES',\n",
        "    'AUSTRALIA': 'AUS',\n",
        "    'AUCKLAND': 'AUCKLAND',\n",
        "    'NEWSCASTLE': 'NEW SOUTH WALES',\n",
        "    'NOWRA':'NEW SOUTH WALES',\n",
        "    'TAMUNING': 'TAMUNING',\n",
        "    'ACT':'ACT',\n",
        "    'DUNEDIN': 'OTAGO',\n",
        "    'GEELONG': 'VICTORIA'\n",
        "}\n",
        "\n",
        "group1['WORK_PROVINCE'] = group1['WORK_CITY'].map(city_to_state)\n",
        "\n",
        "oceania_df.loc[group1.index, 'WORK_PROVINCE'] = group1['WORK_PROVINCE']\n",
        "\n",
        "pd.set_option('display.max_rows', None)\n",
        "\n",
        "print (group1['WORK_PROVINCE'])"
      ],
      "metadata": {
        "colab": {
          "base_uri": "https://localhost:8080/"
        },
        "id": "rZkoYfHO5X4i",
        "outputId": "2ebe7d5c-1fc7-42b4-d92b-11a3d72aeaf0"
      },
      "execution_count": 126,
      "outputs": [
        {
          "output_type": "stream",
          "name": "stdout",
          "text": [
            "507               VICTORIA\n",
            "3634       NEW SOUTH WALES\n",
            "7371            QUEENSLAND\n",
            "8388       NEW SOUTH WALES\n",
            "9281              VICTORIA\n",
            "9471              VICTORIA\n",
            "10055             VICTORIA\n",
            "10785             VICTORIA\n",
            "12950             AUCKLAND\n",
            "13081             VICTORIA\n",
            "13273      NEW SOUTH WALES\n",
            "13472      NEW SOUTH WALES\n",
            "13680      NEW SOUTH WALES\n",
            "14436      NEW SOUTH WALES\n",
            "22849      NEW SOUTH WALES\n",
            "29846      NEW SOUTH WALES\n",
            "34177             AUCKLAND\n",
            "40565             VICTORIA\n",
            "58989    WESTERN AUSTRALIA\n",
            "61063             VICTORIA\n",
            "Name: WORK_PROVINCE, dtype: object\n"
          ]
        },
        {
          "output_type": "stream",
          "name": "stderr",
          "text": [
            "<ipython-input-126-345bb99c5e76>:27: SettingWithCopyWarning: \n",
            "A value is trying to be set on a copy of a slice from a DataFrame.\n",
            "Try using .loc[row_indexer,col_indexer] = value instead\n",
            "\n",
            "See the caveats in the documentation: https://pandas.pydata.org/pandas-docs/stable/user_guide/indexing.html#returning-a-view-versus-a-copy\n",
            "  group1['WORK_PROVINCE'] = group1['WORK_CITY'].map(city_to_state)\n"
          ]
        }
      ]
    },
    {
      "cell_type": "markdown",
      "source": [
        "GROUP 2"
      ],
      "metadata": {
        "id": "vgncmnuw7xmK"
      }
    },
    {
      "cell_type": "code",
      "source": [
        "group2 = oceania_df[(oceania_df['WORK_CITY'].isna()) & (oceania_df['WORK_PROVINCE'].notnull())]\n",
        "print (group2['WORK_PROVINCE'])"
      ],
      "metadata": {
        "colab": {
          "base_uri": "https://localhost:8080/"
        },
        "id": "Hug7E9It70Lz",
        "outputId": "3a770428-fe91-456d-e979-8edcc135667c"
      },
      "execution_count": 127,
      "outputs": [
        {
          "output_type": "stream",
          "name": "stdout",
          "text": [
            "69              VICTORIA\n",
            "4212     NEW SOUTH WALES\n",
            "6258     NEW SOUTH WALES\n",
            "9139            VICTORIA\n",
            "17028    NEW SOUTH WALES\n",
            "21289    NEW SOUTH WALES\n",
            "24212    NEW SOUTH WALES\n",
            "Name: WORK_PROVINCE, dtype: object\n"
          ]
        }
      ]
    },
    {
      "cell_type": "code",
      "source": [
        "# Filling in the cities through common values of corresponding states\n",
        "state_to_city = {\n",
        "    'VICTORIA': 'MELBOURNE',\n",
        "    'NEW SOUTH WALES': 'SYDNEY',\n",
        "\n",
        "}\n",
        "\n",
        "group2['WORK_CITY'] = group2['WORK_PROVINCE'].map(state_to_city)\n",
        "\n",
        "oceania_df.loc[group2.index, 'WORK_CITY'] = group2['WORK_CITY']\n",
        "\n",
        "\n",
        "pd.set_option('display.max_rows', None)\n",
        "\n",
        "print (group2['WORK_CITY'])"
      ],
      "metadata": {
        "colab": {
          "base_uri": "https://localhost:8080/"
        },
        "id": "s9YP-7QD-yJW",
        "outputId": "620f1900-d892-4989-c820-a4bc0155521e"
      },
      "execution_count": 128,
      "outputs": [
        {
          "output_type": "stream",
          "name": "stdout",
          "text": [
            "69       MELBOURNE\n",
            "4212        SYDNEY\n",
            "6258        SYDNEY\n",
            "9139     MELBOURNE\n",
            "17028       SYDNEY\n",
            "21289       SYDNEY\n",
            "24212       SYDNEY\n",
            "Name: WORK_CITY, dtype: object\n"
          ]
        },
        {
          "output_type": "stream",
          "name": "stderr",
          "text": [
            "<ipython-input-128-3f1c95919214>:8: SettingWithCopyWarning: \n",
            "A value is trying to be set on a copy of a slice from a DataFrame.\n",
            "Try using .loc[row_indexer,col_indexer] = value instead\n",
            "\n",
            "See the caveats in the documentation: https://pandas.pydata.org/pandas-docs/stable/user_guide/indexing.html#returning-a-view-versus-a-copy\n",
            "  group2['WORK_CITY'] = group2['WORK_PROVINCE'].map(state_to_city)\n"
          ]
        }
      ]
    },
    {
      "cell_type": "markdown",
      "source": [
        "Group 3"
      ],
      "metadata": {
        "id": "JYUaeeevPAig"
      }
    },
    {
      "cell_type": "code",
      "source": [
        "group3 = oceania_df[(oceania_df['WORK_CITY'].isna()) & (oceania_df['WORK_PROVINCE'].isna())]\n",
        "print (group3['WORK_COUNTRY'])"
      ],
      "metadata": {
        "colab": {
          "base_uri": "https://localhost:8080/"
        },
        "id": "GHaahhGI2XQ_",
        "outputId": "8437cdde-1f6d-4fed-ff79-48f9b831d285"
      },
      "execution_count": 129,
      "outputs": [
        {
          "output_type": "stream",
          "name": "stdout",
          "text": [
            "1508     AU\n",
            "2236     AU\n",
            "3452     AU\n",
            "7379     AU\n",
            "7951     AU\n",
            "9239     AU\n",
            "9470     AU\n",
            "11035    AU\n",
            "13297    AU\n",
            "14158    AU\n",
            "18311    AU\n",
            "18713    AU\n",
            "19250    AU\n",
            "19290    AU\n",
            "22032    AU\n",
            "22853    AU\n",
            "25037    AU\n",
            "32518    AU\n",
            "32670    AU\n",
            "35982    AU\n",
            "49068    AU\n",
            "51844    AU\n",
            "58227    AU\n",
            "Name: WORK_COUNTRY, dtype: object\n"
          ]
        }
      ]
    },
    {
      "cell_type": "code",
      "source": [
        "# Mode in Australia is Sydney, NSW\n",
        "# Filling in missing values with the mode"
      ],
      "metadata": {
        "id": "1f0ThY2h82-R"
      },
      "execution_count": 130,
      "outputs": []
    },
    {
      "cell_type": "code",
      "source": [
        "country_to_state = {\n",
        "    'AU': 'NEW SOUTH WALES',\n",
        "\n",
        "}\n",
        "\n",
        "group3['WORK_PROVINCE'] = group3['WORK_COUNTRY'].map(country_to_state)\n",
        "\n",
        "oceania_df.loc[group3.index, 'WORK_PROVINCE'] = group3['WORK_PROVINCE']\n",
        "\n",
        "pd.set_option('display.max_rows', None)\n",
        "\n",
        "print (group3['WORK_PROVINCE'])"
      ],
      "metadata": {
        "colab": {
          "base_uri": "https://localhost:8080/"
        },
        "id": "Yua2-G0w9kuM",
        "outputId": "1f67d283-e83a-461b-a89d-45da3b74a576"
      },
      "execution_count": 131,
      "outputs": [
        {
          "output_type": "stream",
          "name": "stdout",
          "text": [
            "1508     NEW SOUTH WALES\n",
            "2236     NEW SOUTH WALES\n",
            "3452     NEW SOUTH WALES\n",
            "7379     NEW SOUTH WALES\n",
            "7951     NEW SOUTH WALES\n",
            "9239     NEW SOUTH WALES\n",
            "9470     NEW SOUTH WALES\n",
            "11035    NEW SOUTH WALES\n",
            "13297    NEW SOUTH WALES\n",
            "14158    NEW SOUTH WALES\n",
            "18311    NEW SOUTH WALES\n",
            "18713    NEW SOUTH WALES\n",
            "19250    NEW SOUTH WALES\n",
            "19290    NEW SOUTH WALES\n",
            "22032    NEW SOUTH WALES\n",
            "22853    NEW SOUTH WALES\n",
            "25037    NEW SOUTH WALES\n",
            "32518    NEW SOUTH WALES\n",
            "32670    NEW SOUTH WALES\n",
            "35982    NEW SOUTH WALES\n",
            "49068    NEW SOUTH WALES\n",
            "51844    NEW SOUTH WALES\n",
            "58227    NEW SOUTH WALES\n",
            "Name: WORK_PROVINCE, dtype: object\n"
          ]
        },
        {
          "output_type": "stream",
          "name": "stderr",
          "text": [
            "<ipython-input-131-2780a5258bf6>:6: SettingWithCopyWarning: \n",
            "A value is trying to be set on a copy of a slice from a DataFrame.\n",
            "Try using .loc[row_indexer,col_indexer] = value instead\n",
            "\n",
            "See the caveats in the documentation: https://pandas.pydata.org/pandas-docs/stable/user_guide/indexing.html#returning-a-view-versus-a-copy\n",
            "  group3['WORK_PROVINCE'] = group3['WORK_COUNTRY'].map(country_to_state)\n"
          ]
        }
      ]
    },
    {
      "cell_type": "code",
      "source": [
        "state_to_city2 = {\n",
        "    'NEW SOUTH WALES': 'SYDNEY',\n",
        "\n",
        "}\n",
        "\n",
        "group3['WORK_CITY'] = group3['WORK_PROVINCE'].map(state_to_city2)\n",
        "\n",
        "oceania_df.loc[group3.index, 'WORK_CITY'] = group3['WORK_CITY']\n",
        "\n",
        "pd.set_option('display.max_rows', None)\n",
        "\n",
        "print (group3['WORK_CITY'])"
      ],
      "metadata": {
        "colab": {
          "base_uri": "https://localhost:8080/"
        },
        "id": "_BrRaYmS-on3",
        "outputId": "32c54d10-a4c5-4131-f261-45d889de90d7"
      },
      "execution_count": 132,
      "outputs": [
        {
          "output_type": "stream",
          "name": "stdout",
          "text": [
            "1508     SYDNEY\n",
            "2236     SYDNEY\n",
            "3452     SYDNEY\n",
            "7379     SYDNEY\n",
            "7951     SYDNEY\n",
            "9239     SYDNEY\n",
            "9470     SYDNEY\n",
            "11035    SYDNEY\n",
            "13297    SYDNEY\n",
            "14158    SYDNEY\n",
            "18311    SYDNEY\n",
            "18713    SYDNEY\n",
            "19250    SYDNEY\n",
            "19290    SYDNEY\n",
            "22032    SYDNEY\n",
            "22853    SYDNEY\n",
            "25037    SYDNEY\n",
            "32518    SYDNEY\n",
            "32670    SYDNEY\n",
            "35982    SYDNEY\n",
            "49068    SYDNEY\n",
            "51844    SYDNEY\n",
            "58227    SYDNEY\n",
            "Name: WORK_CITY, dtype: object\n"
          ]
        },
        {
          "output_type": "stream",
          "name": "stderr",
          "text": [
            "<ipython-input-132-64dd166ce5f3>:6: SettingWithCopyWarning: \n",
            "A value is trying to be set on a copy of a slice from a DataFrame.\n",
            "Try using .loc[row_indexer,col_indexer] = value instead\n",
            "\n",
            "See the caveats in the documentation: https://pandas.pydata.org/pandas-docs/stable/user_guide/indexing.html#returning-a-view-versus-a-copy\n",
            "  group3['WORK_CITY'] = group3['WORK_PROVINCE'].map(state_to_city2)\n"
          ]
        }
      ]
    },
    {
      "cell_type": "markdown",
      "source": [
        "##Final Oceania Dataset"
      ],
      "metadata": {
        "id": "-yreVXHR_CdQ"
      }
    },
    {
      "cell_type": "code",
      "source": [
        "\n",
        "# Round the AVG DISCOUNT and AVG INTERVAL column to one decimal place\n",
        "oceania_df['avg_discount'] = df['avg_discount'].round(1)\n",
        "oceania_df['AVG_INTERVAL'] = df['AVG_INTERVAL'].round(1)\n",
        "\n",
        "pd.set_option('display.max_rows', 5)\n",
        "\n",
        "print(oceania_df)"
      ],
      "metadata": {
        "colab": {
          "base_uri": "https://localhost:8080/"
        },
        "id": "2v-zIAhbGEub",
        "outputId": "7d3f0fbe-d736-4de9-e93e-69fb0c60e7cc"
      },
      "execution_count": 133,
      "outputs": [
        {
          "output_type": "stream",
          "name": "stdout",
          "text": [
            "       MEMBER_NO    FFP_DATE FIRST_FLIGHT_DATE  GENDER  FFP_TIER  WORK_CITY  \\\n",
            "69         47919  12/14/2008         5/20/2010  Female         6  MELBOURNE   \n",
            "113        19371   5/31/2007         5/31/2007    Male         5     SYDNEY   \n",
            "...          ...         ...               ...     ...       ...        ...   \n",
            "62459      55302   5/21/2007         6/19/2008  Female         4     SYDNEY   \n",
            "62910      51749   6/12/2012         6/12/2012    Male         4    GEELONG   \n",
            "\n",
            "         WORK_PROVINCE WORK_COUNTRY   AGE  LOAD_TIME  ...  SEG_KM_SUM  \\\n",
            "69            VICTORIA           AU  43.0  3/31/2014  ...      184194   \n",
            "113    NEW SOUTH WALES           AU  53.0  3/31/2014  ...      159605   \n",
            "...                ...          ...   ...        ...  ...         ...   \n",
            "62459  NEW SOUTH WALES           AU  41.0  3/31/2014  ...        2378   \n",
            "62910         VICTORIA           AU  20.0  3/31/2014  ...        1312   \n",
            "\n",
            "       LAST_FLIGHT_DATE  LAST_TO_END  AVG_INTERVAL  MAX_INTERVAL  \\\n",
            "69            3/25/2014            7          24.4            92   \n",
            "113           3/18/2014           14          32.4            80   \n",
            "...                 ...          ...           ...           ...   \n",
            "62459        10/31/2013          153          11.0            11   \n",
            "62910         6/28/2012          643          16.0            16   \n",
            "\n",
            "      EXCHANGE_COUNT  avg_discount  Points_Sum  Point_NotFlight  WORK_REGION  \n",
            "69                 3           0.9      212047                3      Oceania  \n",
            "113                7           0.9      174849                8      Oceania  \n",
            "...              ...           ...         ...              ...          ...  \n",
            "62459              0           0.3        1386                1      Oceania  \n",
            "62910              0           0.3         532                0      Oceania  \n",
            "\n",
            "[258 rows x 24 columns]\n"
          ]
        }
      ]
    },
    {
      "cell_type": "markdown",
      "source": [
        "Handling Incorrect Date Formats"
      ],
      "metadata": {
        "id": "vfRNtBpvPJn3"
      }
    },
    {
      "cell_type": "code",
      "source": [
        "# Formatting the FFP_DATE correctly\n",
        "\n",
        "# Covert to Datetime\n",
        "oceania_df.loc[:,'FFP_DATE'] = pd.to_datetime(oceania_df['FFP_DATE'], format='%m/%d/%Y', errors='coerce')\n",
        "\n",
        "# Identify rows with conversion errors\n",
        "invalid_dates = oceania_df[oceania_df['FFP_DATE'].isna()]\n",
        "print(invalid_dates)"
      ],
      "metadata": {
        "colab": {
          "base_uri": "https://localhost:8080/"
        },
        "id": "j0uI1x_RJJN3",
        "outputId": "d0d6012e-102f-488b-a5da-f25c1a476bc9"
      },
      "execution_count": 134,
      "outputs": [
        {
          "output_type": "stream",
          "name": "stdout",
          "text": [
            "Empty DataFrame\n",
            "Columns: [MEMBER_NO, FFP_DATE, FIRST_FLIGHT_DATE, GENDER, FFP_TIER, WORK_CITY, WORK_PROVINCE, WORK_COUNTRY, AGE, LOAD_TIME, FLIGHT_COUNT, BP_SUM, SUM_YR_1, SUM_YR_2, SEG_KM_SUM, LAST_FLIGHT_DATE, LAST_TO_END, AVG_INTERVAL, MAX_INTERVAL, EXCHANGE_COUNT, avg_discount, Points_Sum, Point_NotFlight, WORK_REGION]\n",
            "Index: []\n",
            "\n",
            "[0 rows x 24 columns]\n"
          ]
        }
      ]
    },
    {
      "cell_type": "code",
      "source": [
        "# Formatting the FIRST_FLIGHT_DATE correctly\n",
        "\n",
        "# Covert to Datetime\n",
        "oceania_df.loc[:,'FIRST_FLIGHT_DATE'] = pd.to_datetime(oceania_df['FIRST_FLIGHT_DATE'], format='%m/%d/%Y', errors='coerce')\n",
        "\n",
        "# Identify rows with conversion errors\n",
        "invalid_dates2 = oceania_df[oceania_df['FIRST_FLIGHT_DATE'].isna()]\n",
        "print(invalid_dates2)"
      ],
      "metadata": {
        "colab": {
          "base_uri": "https://localhost:8080/"
        },
        "id": "nPdwjhnOPIB7",
        "outputId": "c768bebf-0cd5-4e3c-c37a-b1c2c295e9a7"
      },
      "execution_count": 135,
      "outputs": [
        {
          "output_type": "stream",
          "name": "stdout",
          "text": [
            "Empty DataFrame\n",
            "Columns: [MEMBER_NO, FFP_DATE, FIRST_FLIGHT_DATE, GENDER, FFP_TIER, WORK_CITY, WORK_PROVINCE, WORK_COUNTRY, AGE, LOAD_TIME, FLIGHT_COUNT, BP_SUM, SUM_YR_1, SUM_YR_2, SEG_KM_SUM, LAST_FLIGHT_DATE, LAST_TO_END, AVG_INTERVAL, MAX_INTERVAL, EXCHANGE_COUNT, avg_discount, Points_Sum, Point_NotFlight, WORK_REGION]\n",
            "Index: []\n",
            "\n",
            "[0 rows x 24 columns]\n"
          ]
        }
      ]
    },
    {
      "cell_type": "code",
      "source": [
        "oceania_df.loc[5068,'LAST_FLIGHT_DATE'] = '02/28/2014'\n",
        "oceania_df.loc[20573,'LAST_FLIGHT_DATE'] = '02/28/2014'\n",
        "oceania_df.loc[24543,'LAST_FLIGHT_DATE'] = '02/28/2014'"
      ],
      "metadata": {
        "id": "t8Nwe8vEjKkV"
      },
      "execution_count": 138,
      "outputs": []
    },
    {
      "cell_type": "code",
      "source": [
        "# Formatting the LAST_FLIGHT_DATE correctly\n",
        "\n",
        "# Covert to Datetime\n",
        "oceania_df.loc[:,'LAST_FLIGHT_DATE'] = pd.to_datetime(oceania_df['LAST_FLIGHT_DATE'], format='%m/%d/%Y', errors='coerce')\n",
        "\n",
        "# Identify rows with conversion errors\n",
        "invalid_dates4 = oceania_df[oceania_df['LAST_FLIGHT_DATE'].isna()]\n",
        "print(invalid_dates4)"
      ],
      "metadata": {
        "colab": {
          "base_uri": "https://localhost:8080/"
        },
        "id": "1BpflHYqjkbg",
        "outputId": "4f60f584-cf7b-462a-ace5-171d19f45765"
      },
      "execution_count": 139,
      "outputs": [
        {
          "output_type": "stream",
          "name": "stdout",
          "text": [
            "Empty DataFrame\n",
            "Columns: [MEMBER_NO, FFP_DATE, FIRST_FLIGHT_DATE, GENDER, FFP_TIER, WORK_CITY, WORK_PROVINCE, WORK_COUNTRY, AGE, LOAD_TIME, FLIGHT_COUNT, BP_SUM, SUM_YR_1, SUM_YR_2, SEG_KM_SUM, LAST_FLIGHT_DATE, LAST_TO_END, AVG_INTERVAL, MAX_INTERVAL, EXCHANGE_COUNT, avg_discount, Points_Sum, Point_NotFlight, WORK_REGION]\n",
            "Index: []\n",
            "\n",
            "[0 rows x 24 columns]\n"
          ]
        }
      ]
    },
    {
      "cell_type": "code",
      "source": [
        "# Sorting the dataset by ascending Member no.\n",
        "oceania_df.sort_values(by='MEMBER_NO', ascending=True, inplace=True)\n"
      ],
      "metadata": {
        "id": "oNj5EltDOpBQ"
      },
      "execution_count": 140,
      "outputs": []
    },
    {
      "cell_type": "code",
      "source": [
        "csv_file_path = '/content/oceania_flights.csv'\n",
        "oceania_df.to_csv(csv_file_path, index=True)\n",
        "\n",
        "print(f\"DataFrame has been saved to {csv_file_path}\")"
      ],
      "metadata": {
        "colab": {
          "base_uri": "https://localhost:8080/"
        },
        "id": "HpHcDpeyKKr8",
        "outputId": "ac40bb42-365b-4087-de2f-9a42a51a532d"
      },
      "execution_count": 141,
      "outputs": [
        {
          "output_type": "stream",
          "name": "stdout",
          "text": [
            "DataFrame has been saved to /content/oceania_flights.csv\n"
          ]
        }
      ]
    },
    {
      "cell_type": "code",
      "source": [
        "from google.colab import files\n",
        "\n",
        "# Download the CSV file\n",
        "files.download(csv_file_path)"
      ],
      "metadata": {
        "colab": {
          "base_uri": "https://localhost:8080/",
          "height": 17
        },
        "id": "XP3-3yLbKasq",
        "outputId": "06359527-cfd8-411d-b5f1-f2d51084d40d"
      },
      "execution_count": 142,
      "outputs": [
        {
          "output_type": "display_data",
          "data": {
            "text/plain": [
              "<IPython.core.display.Javascript object>"
            ],
            "application/javascript": [
              "\n",
              "    async function download(id, filename, size) {\n",
              "      if (!google.colab.kernel.accessAllowed) {\n",
              "        return;\n",
              "      }\n",
              "      const div = document.createElement('div');\n",
              "      const label = document.createElement('label');\n",
              "      label.textContent = `Downloading \"${filename}\": `;\n",
              "      div.appendChild(label);\n",
              "      const progress = document.createElement('progress');\n",
              "      progress.max = size;\n",
              "      div.appendChild(progress);\n",
              "      document.body.appendChild(div);\n",
              "\n",
              "      const buffers = [];\n",
              "      let downloaded = 0;\n",
              "\n",
              "      const channel = await google.colab.kernel.comms.open(id);\n",
              "      // Send a message to notify the kernel that we're ready.\n",
              "      channel.send({})\n",
              "\n",
              "      for await (const message of channel.messages) {\n",
              "        // Send a message to notify the kernel that we're ready.\n",
              "        channel.send({})\n",
              "        if (message.buffers) {\n",
              "          for (const buffer of message.buffers) {\n",
              "            buffers.push(buffer);\n",
              "            downloaded += buffer.byteLength;\n",
              "            progress.value = downloaded;\n",
              "          }\n",
              "        }\n",
              "      }\n",
              "      const blob = new Blob(buffers, {type: 'application/binary'});\n",
              "      const a = document.createElement('a');\n",
              "      a.href = window.URL.createObjectURL(blob);\n",
              "      a.download = filename;\n",
              "      div.appendChild(a);\n",
              "      a.click();\n",
              "      div.remove();\n",
              "    }\n",
              "  "
            ]
          },
          "metadata": {}
        },
        {
          "output_type": "display_data",
          "data": {
            "text/plain": [
              "<IPython.core.display.Javascript object>"
            ],
            "application/javascript": [
              "download(\"download_6e172fc3-a58a-47ab-aa55-b8a6b021f85d\", \"oceania_flights.csv\", 46511)"
            ]
          },
          "metadata": {}
        }
      ]
    }
  ]
}